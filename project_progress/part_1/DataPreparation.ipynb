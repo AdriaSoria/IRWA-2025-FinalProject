{
 "cells": [
  {
   "cell_type": "code",
   "execution_count": 1,
   "metadata": {
    "executionInfo": {
     "elapsed": 11084,
     "status": "ok",
     "timestamp": 1761328710373,
     "user": {
      "displayName": "IVÁN GUERRA CADAHÍA",
      "userId": "09697430960136608820"
     },
     "user_tz": -120
    },
    "id": "NxdVaBsfoMYA"
   },
   "outputs": [],
   "source": [
    "import json\n",
    "import re\n",
    "import nltk\n",
    "import pandas as pd\n",
    "from nltk.corpus import stopwords\n",
    "from nltk.tokenize import word_tokenize\n",
    "from nltk.stem import PorterStemmer"
   ]
  },
  {
   "cell_type": "code",
   "execution_count": 2,
   "metadata": {
    "colab": {
     "base_uri": "https://localhost:8080/"
    },
    "executionInfo": {
     "elapsed": 52996,
     "status": "ok",
     "timestamp": 1761328763377,
     "user": {
      "displayName": "IVÁN GUERRA CADAHÍA",
      "userId": "09697430960136608820"
     },
     "user_tz": -120
    },
    "id": "4l3woEhPoWNf",
    "outputId": "63e056c0-1bcc-494a-d81d-1c0e2d222d3a"
   },
   "outputs": [],
   "source": [
    "# from google.colab import drive\n",
    "# drive.mount('/content/drive')"
   ]
  },
  {
   "cell_type": "code",
   "execution_count": 3,
   "metadata": {
    "colab": {
     "base_uri": "https://localhost:8080/"
    },
    "executionInfo": {
     "elapsed": 958,
     "status": "ok",
     "timestamp": 1761328764340,
     "user": {
      "displayName": "IVÁN GUERRA CADAHÍA",
      "userId": "09697430960136608820"
     },
     "user_tz": -120
    },
    "id": "4dDwfeKkoqiR",
    "outputId": "ec015775-2e27-4bbf-b7e9-fe37305a78a5"
   },
   "outputs": [
    {
     "name": "stderr",
     "output_type": "stream",
     "text": [
      "[nltk_data] Downloading package stopwords to\n",
      "[nltk_data]     /Users/adriasoria/nltk_data...\n",
      "[nltk_data]   Package stopwords is already up-to-date!\n",
      "[nltk_data] Downloading package punkt_tab to\n",
      "[nltk_data]     /Users/adriasoria/nltk_data...\n",
      "[nltk_data]   Unzipping tokenizers/punkt_tab.zip.\n",
      "[nltk_data] Downloading package punkt to\n",
      "[nltk_data]     /Users/adriasoria/nltk_data...\n",
      "[nltk_data]   Unzipping tokenizers/punkt.zip.\n"
     ]
    },
    {
     "data": {
      "text/plain": [
       "True"
      ]
     },
     "execution_count": 3,
     "metadata": {},
     "output_type": "execute_result"
    }
   ],
   "source": [
    "import nltk\n",
    "nltk.download('stopwords')\n",
    "nltk.download('punkt_tab')\n",
    "nltk.download('punkt')"
   ]
  },
  {
   "cell_type": "code",
   "execution_count": 5,
   "metadata": {
    "colab": {
     "base_uri": "https://localhost:8080/"
    },
    "executionInfo": {
     "elapsed": 49364,
     "status": "ok",
     "timestamp": 1761328828575,
     "user": {
      "displayName": "IVÁN GUERRA CADAHÍA",
      "userId": "09697430960136608820"
     },
     "user_tz": -120
    },
    "id": "GGDyhNVqqMQ9",
    "outputId": "28508a5c-0258-447f-c5ad-c3b742e33c94"
   },
   "outputs": [
    {
     "name": "stdout",
     "output_type": "stream",
     "text": [
      "Cargados 28080 productos correctamente\n",
      "✅ Preprocesamiento completado: 28080 productos guardados en '../../data/productos_preprocesados.csv'\n"
     ]
    }
   ],
   "source": [
    "ruta_entrada = \"../../data/fashion_products_dataset.json\"\n",
    "ruta_salida = \"../../data/productos_preprocesados.csv\"\n",
    "\n",
    "with open(ruta_entrada, \"r\", encoding=\"utf-8\") as f:\n",
    "    productos = json.load(f)\n",
    "\n",
    "print(f\"Cargados {len(productos)} productos correctamente\")\n",
    "\n",
    "stop_words = set(stopwords.words('english'))\n",
    "stemmer = PorterStemmer()\n",
    "\n",
    "def preprocess_text(text):\n",
    "    \"\"\"Preprocess the json file (title + body)\"\"\"\n",
    "    if not isinstance(text, str):\n",
    "        return \"\"\n",
    "    text = text.lower()\n",
    "    text = re.sub(r'[^a-z\\s]', '', text)\n",
    "    tokens = word_tokenize(text)\n",
    "    tokens = [w for w in tokens if w not in stop_words]\n",
    "    tokens = [stemmer.stem(w) for w in tokens]\n",
    "    tokens = [w for w in tokens if len(w) > 1]\n",
    "    return \" \".join(tokens)\n",
    "\n",
    "def clean_price(price):\n",
    "    if isinstance(price, str):\n",
    "        price = price.replace(\",\", \"\").strip()\n",
    "        if price.replace('.', '', 1).isdigit():\n",
    "            return float(price)\n",
    "        else:\n",
    "            return None\n",
    "    try:\n",
    "        return float(price)\n",
    "    except:\n",
    "        return None\n",
    "\n",
    "def clean_discount(d):\n",
    "    if isinstance(d, str):\n",
    "        match = re.search(r'(\\d+(\\.\\d+)?)', d)\n",
    "        return float(match.group(1)) if match else None\n",
    "    return None\n",
    "\n",
    "def clean_rating(r):\n",
    "    try:\n",
    "        return float(r)\n",
    "    except:\n",
    "        return None\n",
    "\n",
    "def clean_stock(s):\n",
    "    if isinstance(s, bool):\n",
    "        return int(s)\n",
    "    if isinstance(s, str):\n",
    "        s = s.lower()\n",
    "        if s in [\"true\", \"yes\", \"1\"]:\n",
    "            return 1\n",
    "        elif s in [\"false\", \"no\", \"0\"]:\n",
    "            return 0\n",
    "    return None\n",
    "\n",
    "productos_procesados = []\n",
    "for p in productos:\n",
    "    title_clean = preprocess_text(p.get(\"title\", \"\"))\n",
    "    desc_clean = preprocess_text(p.get(\"description\", \"\"))\n",
    "\n",
    "    details = p.get(\"product_details\", [])\n",
    "    if isinstance(details, list):\n",
    "        processed_details = []\n",
    "        for d in details:\n",
    "            if isinstance(d, dict) and len(d) > 0:\n",
    "                key = list(d.keys())[0].lower()\n",
    "                value = preprocess_text(str(list(d.values())[0]))\n",
    "                processed_details.append(f\"{key}: {value}\")\n",
    "        details_clean = \" | \".join(processed_details)\n",
    "    else:\n",
    "        details_clean = \"\"\n",
    "\n",
    "    selling_price = clean_price(p.get(\"selling_price\", \"\"))\n",
    "    actual_price = clean_price(p.get(\"actual_price\", \"\"))\n",
    "    discount = clean_discount(p.get(\"discount\", \"\"))\n",
    "    rating = clean_rating(p.get(\"average_rating\", \"\"))\n",
    "    stock = clean_stock(p.get(\"out_of_stock\", \"\"))\n",
    "\n",
    "\n",
    "    productos_procesados.append({\n",
    "        \"pid\": p.get(\"pid\", \"\"),\n",
    "        \"title\": title_clean,\n",
    "        \"description\": desc_clean,\n",
    "        \"brand\": p.get(\"brand\", \"\"),\n",
    "        \"category\": p.get(\"category\", \"\"),\n",
    "        \"sub_category\": p.get(\"sub_category\", \"\"),\n",
    "        \"product_details\": details_clean,\n",
    "        \"seller\": p.get(\"seller\", \"\"),\n",
    "        \"out_of_stock\": stock,\n",
    "        \"selling_price\": selling_price,\n",
    "        \"discount\": discount,\n",
    "        \"actual_price\": actual_price,\n",
    "        \"average_rating\": rating,\n",
    "        \"url\": p.get(\"url\", \"\")\n",
    "    })\n",
    "\n",
    "# === Guardar CSV ===\n",
    "df = pd.DataFrame(productos_procesados)\n",
    "df.to_csv(ruta_salida, index=False, encoding=\"utf-8\")\n",
    "\n",
    "print(f\"✅ Preprocesamiento completado: {len(df)} productos guardados en '{ruta_salida}'\")\n",
    "\n"
   ]
  }
 ],
 "metadata": {
  "colab": {
   "authorship_tag": "ABX9TyPW4v+Ae1xUXM1544mT3FQl",
   "provenance": []
  },
  "kernelspec": {
   "display_name": "Python 3",
   "name": "python3"
  },
  "language_info": {
   "codemirror_mode": {
    "name": "ipython",
    "version": 3
   },
   "file_extension": ".py",
   "mimetype": "text/x-python",
   "name": "python",
   "nbconvert_exporter": "python",
   "pygments_lexer": "ipython3",
   "version": "3.9.6"
  }
 },
 "nbformat": 4,
 "nbformat_minor": 0
}
